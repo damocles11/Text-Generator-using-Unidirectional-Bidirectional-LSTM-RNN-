{
 "cells": [
  {
   "cell_type": "code",
   "execution_count": 1,
   "metadata": {
    "_cell_guid": "b1076dfc-b9ad-4769-8c92-a6c4dae69d19",
    "_uuid": "8f2839f25d086af736a60e9eeb907d3b93b6e0e5"
   },
   "outputs": [
    {
     "name": "stdout",
     "output_type": "stream",
     "text": [
      "/kaggle/input/reviews/reviews1.csv\n",
      "/kaggle/input/reviews/reviews4.csv\n",
      "/kaggle/input/reviews/reviews3.csv\n"
     ]
    }
   ],
   "source": [
    "# This Python 3 environment comes with many helpful analytics libraries installed\n",
    "# It is defined by the kaggle/python Docker image: https://github.com/kaggle/docker-python\n",
    "# For example, here's several helpful packages to load\n",
    "\n",
    "import numpy as np # linear algebra\n",
    "import pandas as pd # data processing, CSV file I/O (e.g. pd.read_csv)\n",
    "\n",
    "# Input data files are available in the read-only \"../input/\" directory\n",
    "# For example, running this (by clicking run or pressing Shift+Enter) will list all files under the input directory\n",
    "\n",
    "import os\n",
    "for dirname, _, filenames in os.walk('/kaggle/input'):\n",
    "    for filename in filenames:\n",
    "        print(os.path.join(dirname, filename))\n",
    "\n",
    "# You can write up to 5GB to the current directory (/kaggle/working/) that gets preserved as output when you create a version using \"Save & Run All\" \n",
    "# You can also write temporary files to /kaggle/temp/, but they won't be saved outside of the current session"
   ]
  },
  {
   "cell_type": "code",
   "execution_count": 2,
   "metadata": {
    "_cell_guid": "79c7e3d0-c299-4dcb-8224-4455121ee9b0",
    "_uuid": "d629ff2d2480ee46fbb7e2d37f6b5fab8052498a"
   },
   "outputs": [
    {
     "name": "stderr",
     "output_type": "stream",
     "text": [
      "Using TensorFlow backend.\n"
     ]
    }
   ],
   "source": [
    "from keras.preprocessing.sequence import pad_sequences\n",
    "from keras.layers import Embedding, LSTM, Dense, Dropout\n",
    "from keras.preprocessing.text import Tokenizer\n",
    "from keras.models import Sequential\n",
    "import keras.utils as ku\n",
    "import string"
   ]
  },
  {
   "cell_type": "code",
   "execution_count": 3,
   "metadata": {},
   "outputs": [],
   "source": [
    "import pandas as pd\n",
    "import numpy as np"
   ]
  },
  {
   "cell_type": "code",
   "execution_count": 4,
   "metadata": {},
   "outputs": [
    {
     "data": {
      "text/plain": [
       "30"
      ]
     },
     "execution_count": 4,
     "metadata": {},
     "output_type": "execute_result"
    }
   ],
   "source": [
    "curr_dir = '/kaggle/input/reviews/'\n",
    "reviews = []\n",
    "for file in os.listdir(curr_dir):\n",
    "    review9_df = pd.read_csv(curr_dir + file)\n",
    "    reviews.extend(list(review9_df.body.values))\n",
    "\n",
    "len(reviews)"
   ]
  },
  {
   "cell_type": "code",
   "execution_count": 5,
   "metadata": {},
   "outputs": [
    {
     "data": {
      "text/plain": [
       "['just got mine last week for 33k and now they are launching one plus 7 for 33k which has d latest processor better screen speaker and finger print sensor amazon has been really unfair by selling 6t at 33k please dont go for 6t they just want to clear the stocks wait for a while you will get this more a more cheaper price highly dissappointed',\n",
       " 'the phone got stuck while using one of camera features its not even getting restarted the screen is freezed thus not allowing to proceed further hope i get a replacement soon',\n",
       " 'build quality is good phone is looking handsome two things bothering me one is notification light there is no notification light on top of screen so i need to awake my phone everytime to check any message or so second thing is fingerprint sensor it is very sensible i must say unlike the back one i need to put my finger in proper way otherwise i wont be able to unlock my phone',\n",
       " 'damaged',\n",
       " 'i am a big fan of apple have been using iphone from last 5 years wanted to change the phone to the new one but not much of innovation from apple so i switched to oneplus and oneplus 6t was a best replacement the oneplus 6t brings new technology and worthwhile improvements to the table making this the best phone from oneplus yet design just gorgeous  the curve of the camera bump is more of a design accent than a notch the phone has a huge 641 in screen but is still easily managed with one hand the color is amazing  mirror black the 6t feels like it was meant to fit in my hand the first party oneplus cases accent the amazing design and make it even more comfortable when you hold the phone you will know exactly what i mean battery lasts more than a day with heavy use i can get almost 6 hrs of screen on time even after watching youtube gaming and general usage even better the included dash charger fills the battery extremely quickly no wireless charging but i dont even miss it camera solid  4k 60fps video looks great other phones in this price range cant even touch the quality of the camera for pictures night shot is solid looking forward to future tweeks to prevent the blown out appearance when some light is present sound probably the only change i would make the since downward firing speaker is easy to block the quality is great  would love to see the dual speaker in the next oneplus phone while you could say that oneplus has made some sacrifices in developing the oneplus 6t they all seem rather subjective sure its a slightly bigger thicker heavier phone than the 6 but if that means a bigger battery with better longevity is it really a loss the headphone jacks absence is annoying for some but the phone comes with an adapter and the indisplay fingerprint sensor might not have fit in the same footprint otherwise',\n",
       " 'best phone  in love with the fingerprint scanner and its animation  battery lasts one day  industry leading camera with studio mode works fantastic  catchy display  fast like a flash  great value for money ',\n",
       " 'they are exactly working on their tag line the speed you need its very fast very very fast talking about camera that would have been better than op6 but nothing changed night scape is very good change you can feel the light in nightscape mode audio is better than most of smartphones but not up to one plus mark battery life is best you can rely on his battery for only one charge of half an hour with full day battery life even if you use it fully fingerprint scanner cant be better new update help him open fast if you have budget of 35k buy it without second thought',\n",
       " 'received faulty piece of mobile battery cant even last for 6 hours i am going to return it',\n",
       " 'coming from oneplus 2 this is a huge upgrade so i liked many things about this phone amazing display im not a notch fan but this is the cutest notch ive seen absence of 35mm jack might be a let down for many fans including me and i still dont agree with their decision there is no led notifications also performance wise theres no need of even comparing because this is the best sd845oxygenos8gb ram  true wonder didnt get a chance to test the camera much so no comments on the camera some might face problems with fingerprint scanner but register them properly and you would not get any problems i had none till now i didnt think that the case in the box would be so good its very nice and ive seen phone dropping from 10ft not breaking with this case many intrusive ads are comparing this with pocophone f1 i just laugh at them oneplus has a way more premium feel than pocophone',\n",
       " 'there are two speakers in one plus 6t one speaker is not working']"
      ]
     },
     "execution_count": 5,
     "metadata": {},
     "output_type": "execute_result"
    }
   ],
   "source": [
    "def clean(text):\n",
    "    text = \"\".join(k for k in text if k not in string.punctuation).lower()\n",
    "    text = text.encode(\"utf8\").decode(\"ascii\",'ignore')\n",
    "    return text \n",
    "\n",
    "text = [clean(x) for x in reviews]\n",
    "text[:10]"
   ]
  },
  {
   "cell_type": "code",
   "execution_count": 6,
   "metadata": {},
   "outputs": [
    {
     "data": {
      "text/plain": [
       "[[64, 149],\n",
       " [64, 149, 464],\n",
       " [64, 149, 464, 101],\n",
       " [64, 149, 464, 101, 294],\n",
       " [64, 149, 464, 101, 294, 10],\n",
       " [64, 149, 464, 101, 294, 10, 86],\n",
       " [64, 149, 464, 101, 294, 10, 86, 3],\n",
       " [64, 149, 464, 101, 294, 10, 86, 3, 77],\n",
       " [64, 149, 464, 101, 294, 10, 86, 3, 77, 87],\n",
       " [64, 149, 464, 101, 294, 10, 86, 3, 77, 87, 20]]"
      ]
     },
     "execution_count": 6,
     "metadata": {},
     "output_type": "execute_result"
    }
   ],
   "source": [
    "tokenizer = Tokenizer()\n",
    "\n",
    "def get_tokens(corpus):\n",
    "    tokenizer.fit_on_texts(text)\n",
    "    total_no_words = len(tokenizer.word_index) + 1\n",
    "    input = []\n",
    "    for line in text:\n",
    "        token_list = tokenizer.texts_to_sequences([line])[0]\n",
    "        for i in range(1, len(token_list)):\n",
    "            n_gram = token_list[:i+1]\n",
    "            input.append(n_gram)\n",
    "    return input, total_no_words\n",
    "\n",
    "input, total_no_words = get_tokens(text)\n",
    "input[:10]"
   ]
  },
  {
   "cell_type": "code",
   "execution_count": 7,
   "metadata": {},
   "outputs": [
    {
     "name": "stdout",
     "output_type": "stream",
     "text": [
      "3913\n",
      "1151\n"
     ]
    }
   ],
   "source": [
    "def padded_sequences(input):\n",
    "    max_len = max([len(x) for x in input])\n",
    "    input = np.array(pad_sequences(input, maxlen=max_len, padding='pre'))\n",
    "    \n",
    "    predictors, label = input[:,:-1],input[:,-1]\n",
    "    label = ku.to_categorical(label, num_classes=total_no_words)\n",
    "    return predictors, label, max_len\n",
    "\n",
    "predictors, label, max_sequence_len = padded_sequences(input)\n",
    "print(len(predictors))\n",
    "print(total_no_words)"
   ]
  },
  {
   "cell_type": "code",
   "execution_count": 8,
   "metadata": {},
   "outputs": [],
   "source": [
    "def create_model(max_sequence_len, total_words):\n",
    "    input_len = max_sequence_len - 1\n",
    "    model = Sequential()\n",
    "    model.add(Embedding(total_words, 10, input_length=input_len))\n",
    "    model.add(LSTM(100,return_sequences=True))\n",
    "    model.add(Dropout(0.1))\n",
    "    model.add(LSTM(100))\n",
    "    model.add(Dropout(0.1))\n",
    "    model.add(Dense(total_words, activation='softmax'))\n",
    "\n",
    "    model.compile(loss='categorical_crossentropy', optimizer='adam')\n",
    "    \n",
    "    return model\n",
    "\n",
    "model = create_model(max_sequence_len, total_no_words)"
   ]
  },
  {
   "cell_type": "code",
   "execution_count": null,
   "metadata": {},
   "outputs": [
    {
     "name": "stderr",
     "output_type": "stream",
     "text": [
      "/opt/conda/lib/python3.7/site-packages/tensorflow_core/python/framework/indexed_slices.py:433: UserWarning: Converting sparse IndexedSlices to a dense Tensor of unknown shape. This may consume a large amount of memory.\n",
      "  \"Converting sparse IndexedSlices to a dense Tensor of unknown shape. \"\n"
     ]
    },
    {
     "name": "stdout",
     "output_type": "stream",
     "text": [
      "Epoch 1/100\n",
      "3913/3913 [==============================] - 91s 23ms/step - loss: 7.0428\n",
      "Epoch 2/100\n",
      " 500/3913 [==>...........................] - ETA: 1:10 - loss: 7.0176"
     ]
    }
   ],
   "source": [
    "model.fit(predictors, label, epochs=10,batch_size=200)"
   ]
  },
  {
   "cell_type": "code",
   "execution_count": null,
   "metadata": {},
   "outputs": [],
   "source": [
    "def generate_text(seed_text, next_words, model, max_sequence_len):\n",
    "    for _ in range(next_words):\n",
    "        token_list = tokenizer.texts_to_sequences([seed_text])[0]\n",
    "        token_list = pad_sequences([token_list], maxlen=max_sequence_len-1, padding='pre')\n",
    "        predicted = model.predict_classes(token_list, verbose=0)\n",
    "        \n",
    "        output_word = \"\"\n",
    "        for word,index in tokenizer.word_index.items():\n",
    "            if index == predicted:\n",
    "                output_word = word\n",
    "                break\n",
    "        seed_text += \" \"+output_word\n",
    "    return seed_text.title()"
   ]
  },
  {
   "cell_type": "code",
   "execution_count": null,
   "metadata": {},
   "outputs": [],
   "source": [
    "print (generate_text(\"two days back i\", 15, model, max_sequence_len))"
   ]
  },
  {
   "cell_type": "code",
   "execution_count": null,
   "metadata": {},
   "outputs": [],
   "source": [
    "print (generate_text(\"i got this phone\", 15, model, max_sequence_len))"
   ]
  },
  {
   "cell_type": "code",
   "execution_count": null,
   "metadata": {},
   "outputs": [],
   "source": []
  }
 ],
 "metadata": {
  "kernelspec": {
   "display_name": "Python 3",
   "language": "python",
   "name": "python3"
  },
  "language_info": {
   "codemirror_mode": {
    "name": "ipython",
    "version": 3
   },
   "file_extension": ".py",
   "mimetype": "text/x-python",
   "name": "python",
   "nbconvert_exporter": "python",
   "pygments_lexer": "ipython3",
   "version": "3.7.0"
  }
 },
 "nbformat": 4,
 "nbformat_minor": 4
}
