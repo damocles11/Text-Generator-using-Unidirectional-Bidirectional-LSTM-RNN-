{
 "cells": [
  {
   "cell_type": "code",
   "execution_count": 18,
   "metadata": {
    "_cell_guid": "b1076dfc-b9ad-4769-8c92-a6c4dae69d19",
    "_uuid": "8f2839f25d086af736a60e9eeb907d3b93b6e0e5"
   },
   "outputs": [
    {
     "name": "stdout",
     "output_type": "stream",
     "text": [
      "/kaggle/input/reviews4.csv\n",
      "/kaggle/input/reviews1.csv\n",
      "/kaggle/input/reviews3.csv\n"
     ]
    }
   ],
   "source": [
    "# This Python 3 environment comes with many helpful analytics libraries installed\n",
    "# It is defined by the kaggle/python Docker image: https://github.com/kaggle/docker-python\n",
    "# For example, here's several helpful packages to load\n",
    "\n",
    "import numpy as np # linear algebra\n",
    "import pandas as pd # data processing, CSV file I/O (e.g. pd.read_csv)\n",
    "\n",
    "# Input data files are available in the read-only \"../input/\" directory\n",
    "# For example, running this (by clicking run or pressing Shift+Enter) will list all files under the input directory\n",
    "\n",
    "import os\n",
    "for dirname, _, filenames in os.walk('/kaggle/input'):\n",
    "    for filename in filenames:\n",
    "        print(os.path.join(dirname, filename))\n",
    "\n",
    "# You can write up to 5GB to the current directory (/kaggle/working/) that gets preserved as output when you create a version using \"Save & Run All\" \n",
    "# You can also write temporary files to /kaggle/temp/, but they won't be saved outside of the current session"
   ]
  },
  {
   "cell_type": "code",
   "execution_count": 19,
   "metadata": {
    "_cell_guid": "79c7e3d0-c299-4dcb-8224-4455121ee9b0",
    "_uuid": "d629ff2d2480ee46fbb7e2d37f6b5fab8052498a"
   },
   "outputs": [],
   "source": [
    "from keras.preprocessing.sequence import pad_sequences\n",
    "from keras.layers import Embedding, LSTM, Dense, Dropout,Bidirectional\n",
    "from keras.preprocessing.text import Tokenizer\n",
    "from keras.models import Sequential\n",
    "import keras.utils as ku\n",
    "import string"
   ]
  },
  {
   "cell_type": "code",
   "execution_count": 20,
   "metadata": {},
   "outputs": [
    {
     "data": {
      "text/plain": [
       "30"
      ]
     },
     "execution_count": 20,
     "metadata": {},
     "output_type": "execute_result"
    }
   ],
   "source": [
    "curr_dir = '/kaggle/input/'\n",
    "reviews = []\n",
    "for file in os.listdir(curr_dir):\n",
    "    review9_df = pd.read_csv(curr_dir + file)\n",
    "    reviews.extend(list(review9_df.body.values))\n",
    "\n",
    "len(reviews)"
   ]
  },
  {
   "cell_type": "code",
   "execution_count": 21,
   "metadata": {},
   "outputs": [],
   "source": [
    "def clean(text):\n",
    "    text = \"\".join(k for k in text if k not in string.punctuation).lower()\n",
    "    text = text.encode(\"utf8\").decode(\"ascii\",'ignore')\n",
    "    return text \n",
    "\n",
    "text = [clean(x) for x in reviews]"
   ]
  },
  {
   "cell_type": "code",
   "execution_count": 22,
   "metadata": {},
   "outputs": [
    {
     "data": {
      "text/plain": [
       "['phone is not working after update i need immediate replacement or need my money back without further delay',\n",
       " 'great for all specs except for the battery life battery drains faster than expected without that totally worth it',\n",
       " 'the most complete and honest review  this phone is outstanding mostly in a really good sense although somewhere we have to settle cons ranked  1 no stereo speakers  although single mono speaker is good 2 headphone audio output c type  35 mm  whatever is above average but should have been better with greater bass and more fuller ambient sound like lg g7 thinq etc ill update my review about the cirrus logic dac and oneplus c type bullets later 3 camera depends upon good lighting conditions too much crop in front camera video due to eis blur in nightscape especially if theres movement in frame wide angle camera should have been a must 4 fingerprint scanner is like 90 hit and 10 miss for 97 hit and 3 miss input same finger twice or thrice proper placement of finger on scanner is important however its sufficiently fast placement should have been upper on the screen 5 no notification led screen off gestures like o for camera are hits and misses occasionally p s no headphone jack no qhd resolution and no wireless charging are not cons atleast for me pros ranked  1 the very best software ui performance clean fast and smooth many customisations better than stock android 2 innovative technology and design like in display fingerprint scanner cute waterdrop notch etc 3 premium and durable build quality unofficially waterproof 4 great battery life and dash charging 5 great screen 6 camera can compete with pixel 3 7 great value for the price however could be of greater value competition  lg g7 thinq asus zenfone 5z iphone 6s plus etc p s youll read many pros in official reviews in the internet youtube etc all in all the phone and the brand deserves your attention 45 out of 5  abhishek chakravorty',\n",
       " 'worst product i ordered on 1st november 2018 at 0001 hours i got the product but only ised 1 day and now the phone is not charging and the phone is dead dint expect such a baaaaaaddd  product i always used one plus but from now onwardd no one plus',\n",
       " 'impressive at this price point only disappointment is  absence 35 mm headphone jack had oneplus supplied bullets headphone as default accessory it would have been a complete package apple learn from it else your days are numbered',\n",
       " 'one plus 6 is better than 6t',\n",
       " 'super nice',\n",
       " 'if you are a op5op5t or op6 user it is not worth upgrading cons of oneplus 6t 1 the indisplay fingerprint is way too slow and does not work always 2 the phone still has some network connectivity issuessw upgrades may fix them 3 phone works fast but expensive for the price and lacks good features like ir blastergloves mode only limited gestures 4 it seems interesting for a week later its just a normal budget phone 5 the low light photos in nightscape is still badoverall camera is just oknot as hyped  pros 1 phone feels more premium than rs25000 phones but still does not provide the vibe of apple or samsungnote  s series 2 has good customer care support especially online 3  the softwareoxygen os is really smoothno lags at all for those looking for phones for at least 23 years of usageif possible wait for oneplus 7 hope to see a triple rear camera and 5g on oneplus7',\n",
       " 'very disappointed with slow mo camera quality i wish i could return the phone',\n",
       " 'i just got the new one plus 6t but not received all other accessories with it only received one charger  one protective case that s it type c to audio adapter is missing',\n",
       " 'just got mine last week for 33k and now they are launching one plus 7 for 33k which has d latest processor better screen speaker and finger print sensor amazon has been really unfair by selling 6t at 33k please dont go for 6t they just want to clear the stocks wait for a while you will get this more a more cheaper price highly dissappointed',\n",
       " 'the phone got stuck while using one of camera features its not even getting restarted the screen is freezed thus not allowing to proceed further hope i get a replacement soon',\n",
       " 'build quality is good phone is looking handsome two things bothering me one is notification light there is no notification light on top of screen so i need to awake my phone everytime to check any message or so second thing is fingerprint sensor it is very sensible i must say unlike the back one i need to put my finger in proper way otherwise i wont be able to unlock my phone',\n",
       " 'damaged',\n",
       " 'i am a big fan of apple have been using iphone from last 5 years wanted to change the phone to the new one but not much of innovation from apple so i switched to oneplus and oneplus 6t was a best replacement the oneplus 6t brings new technology and worthwhile improvements to the table making this the best phone from oneplus yet design just gorgeous  the curve of the camera bump is more of a design accent than a notch the phone has a huge 641 in screen but is still easily managed with one hand the color is amazing  mirror black the 6t feels like it was meant to fit in my hand the first party oneplus cases accent the amazing design and make it even more comfortable when you hold the phone you will know exactly what i mean battery lasts more than a day with heavy use i can get almost 6 hrs of screen on time even after watching youtube gaming and general usage even better the included dash charger fills the battery extremely quickly no wireless charging but i dont even miss it camera solid  4k 60fps video looks great other phones in this price range cant even touch the quality of the camera for pictures night shot is solid looking forward to future tweeks to prevent the blown out appearance when some light is present sound probably the only change i would make the since downward firing speaker is easy to block the quality is great  would love to see the dual speaker in the next oneplus phone while you could say that oneplus has made some sacrifices in developing the oneplus 6t they all seem rather subjective sure its a slightly bigger thicker heavier phone than the 6 but if that means a bigger battery with better longevity is it really a loss the headphone jacks absence is annoying for some but the phone comes with an adapter and the indisplay fingerprint sensor might not have fit in the same footprint otherwise',\n",
       " 'best phone  in love with the fingerprint scanner and its animation  battery lasts one day  industry leading camera with studio mode works fantastic  catchy display  fast like a flash  great value for money ',\n",
       " 'they are exactly working on their tag line the speed you need its very fast very very fast talking about camera that would have been better than op6 but nothing changed night scape is very good change you can feel the light in nightscape mode audio is better than most of smartphones but not up to one plus mark battery life is best you can rely on his battery for only one charge of half an hour with full day battery life even if you use it fully fingerprint scanner cant be better new update help him open fast if you have budget of 35k buy it without second thought',\n",
       " 'received faulty piece of mobile battery cant even last for 6 hours i am going to return it',\n",
       " 'coming from oneplus 2 this is a huge upgrade so i liked many things about this phone amazing display im not a notch fan but this is the cutest notch ive seen absence of 35mm jack might be a let down for many fans including me and i still dont agree with their decision there is no led notifications also performance wise theres no need of even comparing because this is the best sd845oxygenos8gb ram  true wonder didnt get a chance to test the camera much so no comments on the camera some might face problems with fingerprint scanner but register them properly and you would not get any problems i had none till now i didnt think that the case in the box would be so good its very nice and ive seen phone dropping from 10ft not breaking with this case many intrusive ads are comparing this with pocophone f1 i just laugh at them oneplus has a way more premium feel than pocophone',\n",
       " 'there are two speakers in one plus 6t one speaker is not working',\n",
       " 'hello guys i am using this phone past 2 days over all phone is good its worth to buy but there are some issues which i am mentioning below 1  battery is not so good its draning fast not so fast but ya fast 2 there is no am pm in clock which very basic function in every damn phone 3 you can face internet problem may be your sim doesnt support the handset but there is issue 4 performance what i was expecting is not top notch what company claiming you can get same kind of speed  in 20k phone easily 5 lastly the finger scanning lock is not so fast sometimes it takes 23 attempts guys this is my geniune report about this phone i m very much fan of oneplus family but 2 times i took wrong decisions 1 for oneplus 5 it was a worst phone and 2 oneplus 6t actually its not a worst phone but i was expecting a top notch speed but oneplus 6t not match that level if you have budget to buy and you want it anyhow than you can go for it otherwise there are lots of better options available in market in 20k which match almost same quality  look so dont waste your money if you dont have much in your pocket dont push your self to buy this phone i am give this phone 3 star just bcz its not that bad but its not that good now choices upto you',\n",
       " 'i purchased one plus 6t on nov 1st and gor it delivered on nov 3rd everything is fine but touch is not functioning properly at the corners of diaplay didnt expect such issue with onw plus',\n",
       " 'overall 810 a fantastic package at good value 6t mclaren isnt much different from the standard 6t except for the ram and some minor cosmetic changes but for a long time fan of the silver arrows from mika hakkinens time a small increase in price was worth it call me sentimental  unboxing  contents 810 one of the coolest unboxing experiences the mclaren box is very premium and the booklet starts with giving you a brief glimpse into the history of the brand and some cool pictures from the archives it is an homage to bruce mclaren to be honest the speed mark real carbon fire cutout of the mclaren logo encased in acrylic is pretty good and can serve as a cool table top accessory or paper weight if not for much it can be a good ice breaker for visitors to your home  office the charger and cable are also customized for the mclaren edition the soft pu case is simple black and fits snugly there was a missed opportunity to throw in some colour for the mclaren edition all else is pretty much standard providing only a usbc to 35 converter is a bummer for the flagship offering at over 50k throwing in a bullet earphone should have been standard first impressions 910 the device is actually pretty impressive looking especially the orange accents at the bezel on the back when you change the angle under light it almost looks like there are leds inside it looks premium for sure though an actual carbon fibre body would have been awesome be warned though that the surface is a fingerprint magnet and not easy to wipe off unless you use a good cleaning spray the waterdrop notch is barely noticeable and is not much of an issue the colours are vibrant and while setting up you can choose a profile that suits your taste setup 810 the sim card tray is a standard two nanosim one no sd card support still but with 240 gb usable memory not much of an issue to be honest i used the oneplus switch app to transfer my apps data and settings the transition was hassle free and took all of 15 minutes most apps worked immediately but a few needed to be uninstalled and reinstalled as they were acting up i gave it a point less as i think the oneplus switch app should be integrated at the setup stage instead of making a new user download it the phone heats up considerably but it was fine after the initial 30 minutes battery 710 the unit came with 50 power out of the box and it took me a good 30 minutes to get it to 75 despite using the warp charge  30w probably it was due to the fact that close to 100 apps were being downloaded while it was charging i will check the charging performance over the next few weeks and update review if required performance 910 gaming initial performance on gaming is very very good asphalt 9 legends and real racing 3 zero lag and super smooth rendering  bloons td6 is a very resource hungry at lategame levels and the 6t mclaren  made short work of it display the display is really mindblowing video on youtube and other streaming apps was super smooth and brilliant to look at one cool feature is that you can pinch zoom the content to include  exclude the waterdrop notch for front camera  adaptive brightness is annoying at times and i had to turn it off while playing the racing games camera have not tested the camera performance yet especially the 4k 60 fps option will do it soon and update the review hope this helps',\n",
       " 'phone functions are nice battery performance is not lasting good battery is dying very rapidly i am changing full charge twice in 24hrs still battery is getting down to 19 most funny part is that i am hardly using my phone this is very depressing after paying such a big amount hard earned money of rs 38000 and battery performance is so much poor spoken to the amazon technical support for this they have done some online test through some app and get to know that something is wrong with this phone battery and told me for the brand new replacement phone on monday 5th november 2018 i have received my phone on 2nd nov and spoken to amazon technical support engineer on 3rd nov although i havent received any email  sms from amazon yet i can trust them on there words and will receive brand new replacement phone on 5th november itself',\n",
       " 'super',\n",
       " 'very poor product from one plus and neither amazon is replacing the device battery didnt last long much not even 5 or 6 hours the device is malfunctioning like opening apps on its own and volume is increasing or decreasing on its own not satisfied with the product',\n",
       " 'design if you thinking that oneplus 6 and 6t has no major difference than you are absolutely wrong and highly mistaken if you thing 6 is better than 6t price hike is completely justified visible differences between 6  6t higher screen to body ratio gorilla glass 6 indisplay fingerprint scanner taller waterdrop notch 3700mah battery technical advancement advance ai which smartly uses your ram and rom which actually boosts the performance better heatsink than 6 camera i took my canon 1300d with two lens portrait and 1855 and oneplus6t for comparison test oneplus 6t provided better results when both on automode it has amazing contrast perfect saturation but the thing where it stoodout from others its it night picture quality it does wonders even if there is almost no light and that is some magic over there front camera absolutely stunning and comes with screen flash for low light selfies battery battery charging 0 to 65 in 30 mins and at 45 min it reaches 86 full charge by 1hr8 mins when internet bluetooth and wifi off on heavy use it survives 8 hrs i watched 2 movies in hd with 50 screen brightness and 1 hour pubg gaming on hd 1 hour youtubing on average usage 17 hours very smoothlycasual social media surfing browsing camera usage about 5 to 6 pictures using flash without internet usage at all and battery saver on it can go whooping 3 days  speakers external speakers are loud i mean really very loud hearing speaker is very cool by its looks and loud too volume rockers and power switch is perfectly hard security though i feel face detection is worst type of security because it has many drawbacks its quick and finger print scanner is also faster than its competitors the part which irritates is that while using at night in dark for face and fingerprint detection the display gets 100 to scan which is very annoying and very uneasy for eyes',\n",
       " 'read this full review if you are planning to buy oneplus 6t hey guys bought this phone about 2 weeks ago and i have bought the mirror black 8gb ram  128gb  rom which is priced for rs 27999 it comes in a white coloured box packaging and inside the box you will get the phone back cover charging brick usb type c cable type c adapter  user manualletter from oneplus ceo  sim ejctor pin images attached build quality of the phone is good it is having a good finishing and the phone back side is made up of glass and it is having a nice matte finishing and the good part is it does not attract fingerprint and dust in the rear panel you will get the dual camera setup flashlight and oneplus logo in the front you will get the water drop notch and display 641inch with optic amoled display in the top there is secondary noise cancellation mic and in the bottom type c port and speaker grill is placed display used in 6t is optic amoled display and the viewing experience is great looks crisp and clear the viewing angles are great and under the sunlight the display is crisp and sharp it is having widevine l1 certification with the help of that you can stream hd contents in amazon prime netflix etc performance  it is having snapdragon 845 processor  it is having 8gb ram and it makes multitasking on this phone very snappy with the optimised software ie oxygen os the experience is just awesome gaming experience the gaming experience on this phone is just awesome you are also getting gaming mode option so that your gaming experience will not get interrupted with the upcoming notifications or calls if you switch to the beta version then you will get the fanatic mode currently only on beta software experience the oxygen os is the well optimised os in the android platform and you will also get regular software updates for around 2 years storage it is having a storage of 128 gb and it is very enough for me to store videos photos dowloding content from netfilxprime video games etc sound ouput from the speaker grill is crisp  clear and sound from the earpiece during the calls are great lets talk about its camera it features a dual rear cameras 1620 mp with optical image stabalization super slow motion nightscape  studio lightning the front camera is 16 mp and the quality of both the cameras are flawless it clicks great photos in day light and in low light the picture quality is great  it does not struggle in low light as it is having nightscape mode added few camera samples in the front there is 16 megapixel camera which is present in the water drop display and it takes good selfies the autofocus is quite fast and the shutter speed is fast too you can also add watermark from the camera settings battery performanceit is loaded with 3700 mah battery if you are a normal user it can last for the whole day and if you are a gamer then you will have to charge twice a day it comes with dash charger and it can charge up the phone from 0 to 100 in 1hr 10 mins now let me start with the pros and cons of this device pros 1 it is having 8gb  128gb and  snapdragon 845 at the price range of rs 27999 2 it is having very less bezels 3 dual rear camera and the photos clicked are of great quality as it is having the sony imx376k sensor 4 you can get chicken dinner easily with this phone adreno 612 helps to get good performance in gaming 5 it comes with a widevine l1 certification 6 nfc is present 7 you are getting the well optimised os 8 as it is oneplus you are getting the dash charge 9 snapdragon 845 and 8 gb ram which gives a awesome day to day performance 10 internal storage is 128gb which is enough for storing movies songsphotos etc 11 the mirror black looks great and premium 12 but the good part is that you will get the 35mm adapter cons 1 well oneplus 6 was the last phone from oneplus which was having 35mm jack but from oneplus 6t they have ditched the 35 mm jack 2 there are not any option for expanding the memory by using memory card but in oneplus phones you will not get the option to use memory card verdict if you want a flagship phone at less than 30000 then you can definetly go for this phone and if you can add more money then you can buy the oneplus 7 as it is having more features than oneplus 6t thank you for reading my review regards nishant lala',\n",
       " 'i bought one plus 6t at march 9 2019 at 37999may 14 2019 i saw one plus 7 37999  with upgradable processor and camera oneplus  cheated with me i paid high value of oneplus6t in future i will never buy oneplus product oneplus is cheaterin few days drop so much price one plus theft my money one plus 6t is not good as youtuber say in videos very slow fingerprint reader camera quality is average better life is good all over i feel cheated by one plus in future i never buy any oneplus product beware friends oneplus do marketing threw paid uoutubers so many good brandsthey dont do fake marketing and trust worthy like lg sonyand many',\n",
       " 'one plus 6t is great phone but as per new price declare of oneplus 7 dat is 33k we fill cheated by oneplus and amazon in the name of discount dey sale 6t at cost of 33k i bought my oneplus 6t we days back for 33k and now i feel like cheated by onplus and now dey are selling better processorbetter speaker and ufs 30 memory for 33k  seriously oneplus should bring replacement offer for this customers']"
      ]
     },
     "execution_count": 22,
     "metadata": {},
     "output_type": "execute_result"
    }
   ],
   "source": [
    "text"
   ]
  },
  {
   "cell_type": "code",
   "execution_count": 23,
   "metadata": {},
   "outputs": [
    {
     "data": {
      "text/plain": [
       "[[9, 2],\n",
       " [9, 2, 14],\n",
       " [9, 2, 14, 214],\n",
       " [9, 2, 14, 214, 149],\n",
       " [9, 2, 14, 214, 149, 121],\n",
       " [9, 2, 14, 214, 149, 121, 7],\n",
       " [9, 2, 14, 214, 149, 121, 7, 101],\n",
       " [9, 2, 14, 214, 149, 121, 7, 101, 464],\n",
       " [9, 2, 14, 214, 149, 121, 7, 101, 464, 102],\n",
       " [9, 2, 14, 214, 149, 121, 7, 101, 464, 102, 71]]"
      ]
     },
     "execution_count": 23,
     "metadata": {},
     "output_type": "execute_result"
    }
   ],
   "source": [
    "tokenizer = Tokenizer()\n",
    "\n",
    "def get_tokens(corpus):\n",
    "    tokenizer.fit_on_texts(text)\n",
    "    total_no_words = len(tokenizer.word_index) + 1\n",
    "    input = []\n",
    "    for line in text:\n",
    "        token_list = tokenizer.texts_to_sequences([line])[0]\n",
    "        for i in range(1, len(token_list)):\n",
    "            n_gram = token_list[:i+1]\n",
    "            input.append(n_gram)\n",
    "    return input, total_no_words\n",
    "\n",
    "input, total_no_words = get_tokens(text)\n",
    "input[:10]"
   ]
  },
  {
   "cell_type": "code",
   "execution_count": 24,
   "metadata": {},
   "outputs": [
    {
     "name": "stdout",
     "output_type": "stream",
     "text": [
      "3913\n",
      "1151\n"
     ]
    }
   ],
   "source": [
    "def padded_sequences(input):\n",
    "    max_len = max([len(x) for x in input])\n",
    "    input = np.array(pad_sequences(input, maxlen=max_len, padding='pre'))\n",
    "    \n",
    "    predictors, label = input[:,:-1],input[:,-1]\n",
    "    label = ku.to_categorical(label, num_classes=total_no_words)\n",
    "    return predictors, label, max_len\n",
    "\n",
    "predictors, label, max_sequence_len = padded_sequences(input)\n",
    "print(len(predictors))\n",
    "print(total_no_words)"
   ]
  },
  {
   "cell_type": "code",
   "execution_count": 25,
   "metadata": {},
   "outputs": [],
   "source": [
    "def create_model(max_sequence_len, total_words):\n",
    "    input_len = max_sequence_len - 1\n",
    "    model = Sequential()\n",
    "    model.add(Embedding(total_words, 10, input_length=input_len))\n",
    "    model.add(Bidirectional(LSTM(units=256)))\n",
    "    model.add(Dropout(0.4))\n",
    "    model.add(Dense(total_words, activation='softmax'))\n",
    "    model.compile(loss='categorical_crossentropy', optimizer='adam') \n",
    "    return model\n",
    "\n",
    "\n",
    "model = create_model(max_sequence_len, total_no_words)"
   ]
  },
  {
   "cell_type": "code",
   "execution_count": 26,
   "metadata": {},
   "outputs": [
    {
     "name": "stderr",
     "output_type": "stream",
     "text": [
      "/opt/conda/lib/python3.7/site-packages/tensorflow_core/python/framework/indexed_slices.py:433: UserWarning: Converting sparse IndexedSlices to a dense Tensor of unknown shape. This may consume a large amount of memory.\n",
      "  \"Converting sparse IndexedSlices to a dense Tensor of unknown shape. \"\n"
     ]
    },
    {
     "name": "stdout",
     "output_type": "stream",
     "text": [
      "Epoch 1/100\n",
      "2400/3913 [=================>............] - ETA: 11s - loss: 6.8631"
     ]
    },
    {
     "ename": "KeyboardInterrupt",
     "evalue": "",
     "output_type": "error",
     "traceback": [
      "\u001b[0;31m---------------------------------------------------------------------------\u001b[0m",
      "\u001b[0;31mKeyboardInterrupt\u001b[0m                         Traceback (most recent call last)",
      "\u001b[0;32m<ipython-input-26-ea06d93dd33f>\u001b[0m in \u001b[0;36m<module>\u001b[0;34m\u001b[0m\n\u001b[0;32m----> 1\u001b[0;31m \u001b[0mmodel\u001b[0m\u001b[0;34m.\u001b[0m\u001b[0mfit\u001b[0m\u001b[0;34m(\u001b[0m\u001b[0mpredictors\u001b[0m\u001b[0;34m,\u001b[0m \u001b[0mlabel\u001b[0m\u001b[0;34m,\u001b[0m \u001b[0mepochs\u001b[0m\u001b[0;34m=\u001b[0m\u001b[0;36m100\u001b[0m\u001b[0;34m,\u001b[0m\u001b[0mbatch_size\u001b[0m\u001b[0;34m=\u001b[0m\u001b[0;36m200\u001b[0m\u001b[0;34m)\u001b[0m\u001b[0;34m\u001b[0m\u001b[0;34m\u001b[0m\u001b[0m\n\u001b[0m",
      "\u001b[0;32m/opt/conda/lib/python3.7/site-packages/keras/engine/training.py\u001b[0m in \u001b[0;36mfit\u001b[0;34m(self, x, y, batch_size, epochs, verbose, callbacks, validation_split, validation_data, shuffle, class_weight, sample_weight, initial_epoch, steps_per_epoch, validation_steps, validation_freq, max_queue_size, workers, use_multiprocessing, **kwargs)\u001b[0m\n\u001b[1;32m   1237\u001b[0m                                         \u001b[0msteps_per_epoch\u001b[0m\u001b[0;34m=\u001b[0m\u001b[0msteps_per_epoch\u001b[0m\u001b[0;34m,\u001b[0m\u001b[0;34m\u001b[0m\u001b[0;34m\u001b[0m\u001b[0m\n\u001b[1;32m   1238\u001b[0m                                         \u001b[0mvalidation_steps\u001b[0m\u001b[0;34m=\u001b[0m\u001b[0mvalidation_steps\u001b[0m\u001b[0;34m,\u001b[0m\u001b[0;34m\u001b[0m\u001b[0;34m\u001b[0m\u001b[0m\n\u001b[0;32m-> 1239\u001b[0;31m                                         validation_freq=validation_freq)\n\u001b[0m\u001b[1;32m   1240\u001b[0m \u001b[0;34m\u001b[0m\u001b[0m\n\u001b[1;32m   1241\u001b[0m     def evaluate(self,\n",
      "\u001b[0;32m/opt/conda/lib/python3.7/site-packages/keras/engine/training_arrays.py\u001b[0m in \u001b[0;36mfit_loop\u001b[0;34m(model, fit_function, fit_inputs, out_labels, batch_size, epochs, verbose, callbacks, val_function, val_inputs, shuffle, initial_epoch, steps_per_epoch, validation_steps, validation_freq)\u001b[0m\n\u001b[1;32m    194\u001b[0m                     \u001b[0mins_batch\u001b[0m\u001b[0;34m[\u001b[0m\u001b[0mi\u001b[0m\u001b[0;34m]\u001b[0m \u001b[0;34m=\u001b[0m \u001b[0mins_batch\u001b[0m\u001b[0;34m[\u001b[0m\u001b[0mi\u001b[0m\u001b[0;34m]\u001b[0m\u001b[0;34m.\u001b[0m\u001b[0mtoarray\u001b[0m\u001b[0;34m(\u001b[0m\u001b[0;34m)\u001b[0m\u001b[0;34m\u001b[0m\u001b[0;34m\u001b[0m\u001b[0m\n\u001b[1;32m    195\u001b[0m \u001b[0;34m\u001b[0m\u001b[0m\n\u001b[0;32m--> 196\u001b[0;31m                 \u001b[0mouts\u001b[0m \u001b[0;34m=\u001b[0m \u001b[0mfit_function\u001b[0m\u001b[0;34m(\u001b[0m\u001b[0mins_batch\u001b[0m\u001b[0;34m)\u001b[0m\u001b[0;34m\u001b[0m\u001b[0;34m\u001b[0m\u001b[0m\n\u001b[0m\u001b[1;32m    197\u001b[0m                 \u001b[0mouts\u001b[0m \u001b[0;34m=\u001b[0m \u001b[0mto_list\u001b[0m\u001b[0;34m(\u001b[0m\u001b[0mouts\u001b[0m\u001b[0;34m)\u001b[0m\u001b[0;34m\u001b[0m\u001b[0;34m\u001b[0m\u001b[0m\n\u001b[1;32m    198\u001b[0m                 \u001b[0;32mfor\u001b[0m \u001b[0ml\u001b[0m\u001b[0;34m,\u001b[0m \u001b[0mo\u001b[0m \u001b[0;32min\u001b[0m \u001b[0mzip\u001b[0m\u001b[0;34m(\u001b[0m\u001b[0mout_labels\u001b[0m\u001b[0;34m,\u001b[0m \u001b[0mouts\u001b[0m\u001b[0;34m)\u001b[0m\u001b[0;34m:\u001b[0m\u001b[0;34m\u001b[0m\u001b[0;34m\u001b[0m\u001b[0m\n",
      "\u001b[0;32m/opt/conda/lib/python3.7/site-packages/tensorflow_core/python/keras/backend.py\u001b[0m in \u001b[0;36m__call__\u001b[0;34m(self, inputs)\u001b[0m\n\u001b[1;32m   3725\u001b[0m         \u001b[0mvalue\u001b[0m \u001b[0;34m=\u001b[0m \u001b[0mmath_ops\u001b[0m\u001b[0;34m.\u001b[0m\u001b[0mcast\u001b[0m\u001b[0;34m(\u001b[0m\u001b[0mvalue\u001b[0m\u001b[0;34m,\u001b[0m \u001b[0mtensor\u001b[0m\u001b[0;34m.\u001b[0m\u001b[0mdtype\u001b[0m\u001b[0;34m)\u001b[0m\u001b[0;34m\u001b[0m\u001b[0;34m\u001b[0m\u001b[0m\n\u001b[1;32m   3726\u001b[0m       \u001b[0mconverted_inputs\u001b[0m\u001b[0;34m.\u001b[0m\u001b[0mappend\u001b[0m\u001b[0;34m(\u001b[0m\u001b[0mvalue\u001b[0m\u001b[0;34m)\u001b[0m\u001b[0;34m\u001b[0m\u001b[0;34m\u001b[0m\u001b[0m\n\u001b[0;32m-> 3727\u001b[0;31m     \u001b[0moutputs\u001b[0m \u001b[0;34m=\u001b[0m \u001b[0mself\u001b[0m\u001b[0;34m.\u001b[0m\u001b[0m_graph_fn\u001b[0m\u001b[0;34m(\u001b[0m\u001b[0;34m*\u001b[0m\u001b[0mconverted_inputs\u001b[0m\u001b[0;34m)\u001b[0m\u001b[0;34m\u001b[0m\u001b[0;34m\u001b[0m\u001b[0m\n\u001b[0m\u001b[1;32m   3728\u001b[0m \u001b[0;34m\u001b[0m\u001b[0m\n\u001b[1;32m   3729\u001b[0m     \u001b[0;31m# EagerTensor.numpy() will often make a copy to ensure memory safety.\u001b[0m\u001b[0;34m\u001b[0m\u001b[0;34m\u001b[0m\u001b[0;34m\u001b[0m\u001b[0m\n",
      "\u001b[0;32m/opt/conda/lib/python3.7/site-packages/tensorflow_core/python/eager/function.py\u001b[0m in \u001b[0;36m__call__\u001b[0;34m(self, *args, **kwargs)\u001b[0m\n\u001b[1;32m   1549\u001b[0m       \u001b[0mTypeError\u001b[0m\u001b[0;34m:\u001b[0m \u001b[0mFor\u001b[0m \u001b[0minvalid\u001b[0m \u001b[0mpositional\u001b[0m\u001b[0;34m/\u001b[0m\u001b[0mkeyword\u001b[0m \u001b[0margument\u001b[0m \u001b[0mcombinations\u001b[0m\u001b[0;34m.\u001b[0m\u001b[0;34m\u001b[0m\u001b[0;34m\u001b[0m\u001b[0m\n\u001b[1;32m   1550\u001b[0m     \"\"\"\n\u001b[0;32m-> 1551\u001b[0;31m     \u001b[0;32mreturn\u001b[0m \u001b[0mself\u001b[0m\u001b[0;34m.\u001b[0m\u001b[0m_call_impl\u001b[0m\u001b[0;34m(\u001b[0m\u001b[0margs\u001b[0m\u001b[0;34m,\u001b[0m \u001b[0mkwargs\u001b[0m\u001b[0;34m)\u001b[0m\u001b[0;34m\u001b[0m\u001b[0;34m\u001b[0m\u001b[0m\n\u001b[0m\u001b[1;32m   1552\u001b[0m \u001b[0;34m\u001b[0m\u001b[0m\n\u001b[1;32m   1553\u001b[0m   \u001b[0;32mdef\u001b[0m \u001b[0m_call_impl\u001b[0m\u001b[0;34m(\u001b[0m\u001b[0mself\u001b[0m\u001b[0;34m,\u001b[0m \u001b[0margs\u001b[0m\u001b[0;34m,\u001b[0m \u001b[0mkwargs\u001b[0m\u001b[0;34m,\u001b[0m \u001b[0mcancellation_manager\u001b[0m\u001b[0;34m=\u001b[0m\u001b[0;32mNone\u001b[0m\u001b[0;34m)\u001b[0m\u001b[0;34m:\u001b[0m\u001b[0;34m\u001b[0m\u001b[0;34m\u001b[0m\u001b[0m\n",
      "\u001b[0;32m/opt/conda/lib/python3.7/site-packages/tensorflow_core/python/eager/function.py\u001b[0m in \u001b[0;36m_call_impl\u001b[0;34m(self, args, kwargs, cancellation_manager)\u001b[0m\n\u001b[1;32m   1589\u001b[0m       raise TypeError(\"Keyword arguments {} unknown. Expected {}.\".format(\n\u001b[1;32m   1590\u001b[0m           list(kwargs.keys()), list(self._arg_keywords)))\n\u001b[0;32m-> 1591\u001b[0;31m     \u001b[0;32mreturn\u001b[0m \u001b[0mself\u001b[0m\u001b[0;34m.\u001b[0m\u001b[0m_call_flat\u001b[0m\u001b[0;34m(\u001b[0m\u001b[0margs\u001b[0m\u001b[0;34m,\u001b[0m \u001b[0mself\u001b[0m\u001b[0;34m.\u001b[0m\u001b[0mcaptured_inputs\u001b[0m\u001b[0;34m,\u001b[0m \u001b[0mcancellation_manager\u001b[0m\u001b[0;34m)\u001b[0m\u001b[0;34m\u001b[0m\u001b[0;34m\u001b[0m\u001b[0m\n\u001b[0m\u001b[1;32m   1592\u001b[0m \u001b[0;34m\u001b[0m\u001b[0m\n\u001b[1;32m   1593\u001b[0m   \u001b[0;32mdef\u001b[0m \u001b[0m_filtered_call\u001b[0m\u001b[0;34m(\u001b[0m\u001b[0mself\u001b[0m\u001b[0;34m,\u001b[0m \u001b[0margs\u001b[0m\u001b[0;34m,\u001b[0m \u001b[0mkwargs\u001b[0m\u001b[0;34m)\u001b[0m\u001b[0;34m:\u001b[0m\u001b[0;34m\u001b[0m\u001b[0;34m\u001b[0m\u001b[0m\n",
      "\u001b[0;32m/opt/conda/lib/python3.7/site-packages/tensorflow_core/python/eager/function.py\u001b[0m in \u001b[0;36m_call_flat\u001b[0;34m(self, args, captured_inputs, cancellation_manager)\u001b[0m\n\u001b[1;32m   1690\u001b[0m       \u001b[0;31m# No tape is watching; skip to running the function.\u001b[0m\u001b[0;34m\u001b[0m\u001b[0;34m\u001b[0m\u001b[0;34m\u001b[0m\u001b[0m\n\u001b[1;32m   1691\u001b[0m       return self._build_call_outputs(self._inference_function.call(\n\u001b[0;32m-> 1692\u001b[0;31m           ctx, args, cancellation_manager=cancellation_manager))\n\u001b[0m\u001b[1;32m   1693\u001b[0m     forward_backward = self._select_forward_and_backward_functions(\n\u001b[1;32m   1694\u001b[0m         \u001b[0margs\u001b[0m\u001b[0;34m,\u001b[0m\u001b[0;34m\u001b[0m\u001b[0;34m\u001b[0m\u001b[0m\n",
      "\u001b[0;32m/opt/conda/lib/python3.7/site-packages/tensorflow_core/python/eager/function.py\u001b[0m in \u001b[0;36mcall\u001b[0;34m(self, ctx, args, cancellation_manager)\u001b[0m\n\u001b[1;32m    543\u001b[0m               \u001b[0minputs\u001b[0m\u001b[0;34m=\u001b[0m\u001b[0margs\u001b[0m\u001b[0;34m,\u001b[0m\u001b[0;34m\u001b[0m\u001b[0;34m\u001b[0m\u001b[0m\n\u001b[1;32m    544\u001b[0m               \u001b[0mattrs\u001b[0m\u001b[0;34m=\u001b[0m\u001b[0;34m(\u001b[0m\u001b[0;34m\"executor_type\"\u001b[0m\u001b[0;34m,\u001b[0m \u001b[0mexecutor_type\u001b[0m\u001b[0;34m,\u001b[0m \u001b[0;34m\"config_proto\"\u001b[0m\u001b[0;34m,\u001b[0m \u001b[0mconfig\u001b[0m\u001b[0;34m)\u001b[0m\u001b[0;34m,\u001b[0m\u001b[0;34m\u001b[0m\u001b[0;34m\u001b[0m\u001b[0m\n\u001b[0;32m--> 545\u001b[0;31m               ctx=ctx)\n\u001b[0m\u001b[1;32m    546\u001b[0m         \u001b[0;32melse\u001b[0m\u001b[0;34m:\u001b[0m\u001b[0;34m\u001b[0m\u001b[0;34m\u001b[0m\u001b[0m\n\u001b[1;32m    547\u001b[0m           outputs = execute.execute_with_cancellation(\n",
      "\u001b[0;32m/opt/conda/lib/python3.7/site-packages/tensorflow_core/python/eager/execute.py\u001b[0m in \u001b[0;36mquick_execute\u001b[0;34m(op_name, num_outputs, inputs, attrs, ctx, name)\u001b[0m\n\u001b[1;32m     59\u001b[0m     tensors = pywrap_tensorflow.TFE_Py_Execute(ctx._handle, device_name,\n\u001b[1;32m     60\u001b[0m                                                \u001b[0mop_name\u001b[0m\u001b[0;34m,\u001b[0m \u001b[0minputs\u001b[0m\u001b[0;34m,\u001b[0m \u001b[0mattrs\u001b[0m\u001b[0;34m,\u001b[0m\u001b[0;34m\u001b[0m\u001b[0;34m\u001b[0m\u001b[0m\n\u001b[0;32m---> 61\u001b[0;31m                                                num_outputs)\n\u001b[0m\u001b[1;32m     62\u001b[0m   \u001b[0;32mexcept\u001b[0m \u001b[0mcore\u001b[0m\u001b[0;34m.\u001b[0m\u001b[0m_NotOkStatusException\u001b[0m \u001b[0;32mas\u001b[0m \u001b[0me\u001b[0m\u001b[0;34m:\u001b[0m\u001b[0;34m\u001b[0m\u001b[0;34m\u001b[0m\u001b[0m\n\u001b[1;32m     63\u001b[0m     \u001b[0;32mif\u001b[0m \u001b[0mname\u001b[0m \u001b[0;32mis\u001b[0m \u001b[0;32mnot\u001b[0m \u001b[0;32mNone\u001b[0m\u001b[0;34m:\u001b[0m\u001b[0;34m\u001b[0m\u001b[0;34m\u001b[0m\u001b[0m\n",
      "\u001b[0;31mKeyboardInterrupt\u001b[0m: "
     ]
    }
   ],
   "source": [
    "model.fit(predictors, label, epochs=100,batch_size=200)"
   ]
  },
  {
   "cell_type": "code",
   "execution_count": 10,
   "metadata": {},
   "outputs": [],
   "source": [
    "def generate_text(seed_text, next_words, model, max_sequence_len):\n",
    "    for _ in range(next_words):\n",
    "        token_list = tokenizer.texts_to_sequences([seed_text])[0]\n",
    "        token_list = pad_sequences([token_list], maxlen=max_sequence_len-1, padding='pre')\n",
    "        predicted = model.predict_classes(token_list, verbose=0)\n",
    "        \n",
    "        output_word = \"\"\n",
    "        for word,index in tokenizer.word_index.items():\n",
    "            if index == predicted:\n",
    "                output_word = word\n",
    "                break\n",
    "        seed_text += \" \"+output_word\n",
    "    return seed_text.title()"
   ]
  },
  {
   "cell_type": "code",
   "execution_count": 17,
   "metadata": {},
   "outputs": [
    {
     "name": "stdout",
     "output_type": "stream",
     "text": [
      "I Got The Product One Plus 6T But Not Received All Other Accessories With It\n"
     ]
    }
   ],
   "source": [
    "print (generate_text(\"I got the product\", 12, model, max_sequence_len))"
   ]
  },
  {
   "cell_type": "code",
   "execution_count": null,
   "metadata": {},
   "outputs": [],
   "source": []
  }
 ],
 "metadata": {
  "kernelspec": {
   "display_name": "Python 3",
   "language": "python",
   "name": "python3"
  },
  "language_info": {
   "codemirror_mode": {
    "name": "ipython",
    "version": 3
   },
   "file_extension": ".py",
   "mimetype": "text/x-python",
   "name": "python",
   "nbconvert_exporter": "python",
   "pygments_lexer": "ipython3",
   "version": "3.7.0"
  }
 },
 "nbformat": 4,
 "nbformat_minor": 4
}
